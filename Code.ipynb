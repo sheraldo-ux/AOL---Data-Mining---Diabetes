{
 "cells": [
  {
   "cell_type": "code",
   "execution_count": 89,
   "metadata": {},
   "outputs": [],
   "source": [
    "import pandas as pd\n",
    "import seaborn as sns\n",
    "import numpy as np\n",
    "import matplotlib.pyplot as plt \n",
    "from matplotlib.cm import Set2\n",
    "from sklearn.preprocessing import StandardScaler \n",
    "from sklearn.model_selection import train_test_split\n",
    "from sklearn.preprocessing import StandardScaler\n",
    "from sklearn.linear_model import LogisticRegression\n",
    "from sklearn.neighbors import KNeighborsClassifier\n",
    "from sklearn.svm import SVC\n",
    "from sklearn.tree import DecisionTreeClassifier\n",
    "from sklearn.ensemble import RandomForestClassifier\n",
    "from sklearn.ensemble import GradientBoostingClassifier\n",
    "from sklearn.naive_bayes import GaussianNB\n",
    "from sklearn.pipeline import Pipeline\n",
    "from sklearn.metrics import accuracy_score\n",
    "import joblib\n",
    "from tkinter import *\n",
    "from tkinter import messagebox"
   ]
  },
  {
   "cell_type": "markdown",
   "metadata": {},
   "source": [
    "# Importing CSV To Python"
   ]
  },
  {
   "cell_type": "code",
   "execution_count": 90,
   "metadata": {},
   "outputs": [
    {
     "name": "stdout",
     "output_type": "stream",
     "text": [
      "Number Of Row: 1536 Rows\n",
      "Number Of Column: 9 Columns\n"
     ]
    },
    {
     "data": {
      "text/html": [
       "<div>\n",
       "<style scoped>\n",
       "    .dataframe tbody tr th:only-of-type {\n",
       "        vertical-align: middle;\n",
       "    }\n",
       "\n",
       "    .dataframe tbody tr th {\n",
       "        vertical-align: top;\n",
       "    }\n",
       "\n",
       "    .dataframe thead th {\n",
       "        text-align: right;\n",
       "    }\n",
       "</style>\n",
       "<table border=\"1\" class=\"dataframe\">\n",
       "  <thead>\n",
       "    <tr style=\"text-align: right;\">\n",
       "      <th></th>\n",
       "      <th>Pregnancies</th>\n",
       "      <th>Glucose</th>\n",
       "      <th>BloodPressure</th>\n",
       "      <th>SkinThickness</th>\n",
       "      <th>Insulin</th>\n",
       "      <th>BMI</th>\n",
       "      <th>DiabetesPedigreeFunction</th>\n",
       "      <th>Age</th>\n",
       "      <th>Outcome</th>\n",
       "    </tr>\n",
       "  </thead>\n",
       "  <tbody>\n",
       "    <tr>\n",
       "      <th>0</th>\n",
       "      <td>6</td>\n",
       "      <td>148</td>\n",
       "      <td>72</td>\n",
       "      <td>35</td>\n",
       "      <td>0</td>\n",
       "      <td>33.6</td>\n",
       "      <td>0.627</td>\n",
       "      <td>50</td>\n",
       "      <td>1</td>\n",
       "    </tr>\n",
       "    <tr>\n",
       "      <th>1</th>\n",
       "      <td>1</td>\n",
       "      <td>85</td>\n",
       "      <td>66</td>\n",
       "      <td>29</td>\n",
       "      <td>0</td>\n",
       "      <td>26.6</td>\n",
       "      <td>0.351</td>\n",
       "      <td>31</td>\n",
       "      <td>0</td>\n",
       "    </tr>\n",
       "    <tr>\n",
       "      <th>2</th>\n",
       "      <td>8</td>\n",
       "      <td>183</td>\n",
       "      <td>64</td>\n",
       "      <td>0</td>\n",
       "      <td>0</td>\n",
       "      <td>23.3</td>\n",
       "      <td>0.672</td>\n",
       "      <td>32</td>\n",
       "      <td>1</td>\n",
       "    </tr>\n",
       "    <tr>\n",
       "      <th>3</th>\n",
       "      <td>1</td>\n",
       "      <td>89</td>\n",
       "      <td>66</td>\n",
       "      <td>23</td>\n",
       "      <td>94</td>\n",
       "      <td>28.1</td>\n",
       "      <td>0.167</td>\n",
       "      <td>21</td>\n",
       "      <td>0</td>\n",
       "    </tr>\n",
       "    <tr>\n",
       "      <th>4</th>\n",
       "      <td>0</td>\n",
       "      <td>137</td>\n",
       "      <td>40</td>\n",
       "      <td>35</td>\n",
       "      <td>168</td>\n",
       "      <td>43.1</td>\n",
       "      <td>2.288</td>\n",
       "      <td>33</td>\n",
       "      <td>1</td>\n",
       "    </tr>\n",
       "    <tr>\n",
       "      <th>5</th>\n",
       "      <td>5</td>\n",
       "      <td>116</td>\n",
       "      <td>74</td>\n",
       "      <td>0</td>\n",
       "      <td>0</td>\n",
       "      <td>25.6</td>\n",
       "      <td>0.201</td>\n",
       "      <td>30</td>\n",
       "      <td>0</td>\n",
       "    </tr>\n",
       "    <tr>\n",
       "      <th>6</th>\n",
       "      <td>3</td>\n",
       "      <td>78</td>\n",
       "      <td>50</td>\n",
       "      <td>32</td>\n",
       "      <td>88</td>\n",
       "      <td>31.0</td>\n",
       "      <td>0.248</td>\n",
       "      <td>26</td>\n",
       "      <td>1</td>\n",
       "    </tr>\n",
       "    <tr>\n",
       "      <th>7</th>\n",
       "      <td>10</td>\n",
       "      <td>115</td>\n",
       "      <td>0</td>\n",
       "      <td>0</td>\n",
       "      <td>0</td>\n",
       "      <td>35.3</td>\n",
       "      <td>0.134</td>\n",
       "      <td>29</td>\n",
       "      <td>0</td>\n",
       "    </tr>\n",
       "    <tr>\n",
       "      <th>8</th>\n",
       "      <td>2</td>\n",
       "      <td>197</td>\n",
       "      <td>70</td>\n",
       "      <td>45</td>\n",
       "      <td>543</td>\n",
       "      <td>30.5</td>\n",
       "      <td>0.158</td>\n",
       "      <td>53</td>\n",
       "      <td>1</td>\n",
       "    </tr>\n",
       "    <tr>\n",
       "      <th>9</th>\n",
       "      <td>8</td>\n",
       "      <td>125</td>\n",
       "      <td>96</td>\n",
       "      <td>0</td>\n",
       "      <td>0</td>\n",
       "      <td>0.0</td>\n",
       "      <td>0.232</td>\n",
       "      <td>54</td>\n",
       "      <td>1</td>\n",
       "    </tr>\n",
       "  </tbody>\n",
       "</table>\n",
       "</div>"
      ],
      "text/plain": [
       "   Pregnancies  Glucose  BloodPressure  SkinThickness  Insulin   BMI  \\\n",
       "0            6      148             72             35        0  33.6   \n",
       "1            1       85             66             29        0  26.6   \n",
       "2            8      183             64              0        0  23.3   \n",
       "3            1       89             66             23       94  28.1   \n",
       "4            0      137             40             35      168  43.1   \n",
       "5            5      116             74              0        0  25.6   \n",
       "6            3       78             50             32       88  31.0   \n",
       "7           10      115              0              0        0  35.3   \n",
       "8            2      197             70             45      543  30.5   \n",
       "9            8      125             96              0        0   0.0   \n",
       "\n",
       "   DiabetesPedigreeFunction  Age  Outcome  \n",
       "0                     0.627   50        1  \n",
       "1                     0.351   31        0  \n",
       "2                     0.672   32        1  \n",
       "3                     0.167   21        0  \n",
       "4                     2.288   33        1  \n",
       "5                     0.201   30        0  \n",
       "6                     0.248   26        1  \n",
       "7                     0.134   29        0  \n",
       "8                     0.158   53        1  \n",
       "9                     0.232   54        1  "
      ]
     },
     "execution_count": 90,
     "metadata": {},
     "output_type": "execute_result"
    }
   ],
   "source": [
    "df = pd.read_csv('Diabetes.csv')\n",
    "data = df.copy()\n",
    "print(\"Number Of Row:\",data.shape[0],'Rows')\n",
    "print(\"Number Of Column:\", data.shape[1], 'Columns')\n",
    "df.head(10)"
   ]
  },
  {
   "cell_type": "markdown",
   "metadata": {},
   "source": [
    "# Check For Missing Value"
   ]
  },
  {
   "cell_type": "code",
   "execution_count": 91,
   "metadata": {},
   "outputs": [
    {
     "data": {
      "text/plain": [
       "Pregnancies                 0\n",
       "Glucose                     0\n",
       "BloodPressure               0\n",
       "SkinThickness               0\n",
       "Insulin                     0\n",
       "BMI                         0\n",
       "DiabetesPedigreeFunction    0\n",
       "Age                         0\n",
       "Outcome                     0\n",
       "dtype: int64"
      ]
     },
     "execution_count": 91,
     "metadata": {},
     "output_type": "execute_result"
    }
   ],
   "source": [
    "df.isna().sum()"
   ]
  },
  {
   "cell_type": "markdown",
   "metadata": {},
   "source": [
    "# Check Data Types "
   ]
  },
  {
   "cell_type": "code",
   "execution_count": 92,
   "metadata": {},
   "outputs": [
    {
     "data": {
      "text/plain": [
       "Pregnancies                   int64\n",
       "Glucose                       int64\n",
       "BloodPressure                 int64\n",
       "SkinThickness                 int64\n",
       "Insulin                       int64\n",
       "BMI                         float64\n",
       "DiabetesPedigreeFunction    float64\n",
       "Age                           int64\n",
       "Outcome                       int64\n",
       "dtype: object"
      ]
     },
     "execution_count": 92,
     "metadata": {},
     "output_type": "execute_result"
    }
   ],
   "source": [
    "df.dtypes"
   ]
  },
  {
   "cell_type": "markdown",
   "metadata": {},
   "source": [
    "# Check Heat Map"
   ]
  },
  {
   "cell_type": "code",
   "execution_count": 93,
   "metadata": {},
   "outputs": [
    {
     "data": {
      "text/plain": [
       "<Axes: >"
      ]
     },
     "execution_count": 93,
     "metadata": {},
     "output_type": "execute_result"
    },
    {
     "data": {
      "image/png": "[encoded data removed]",
      "text/plain": [
       "<Figure size 640x480 with 2 Axes>"
      ]
     },
     "metadata": {},
     "output_type": "display_data"
    }
   ],
   "source": [
    "sns.heatmap(df.corr(), annot=True)"
   ]
  },
  {
   "cell_type": "markdown",
   "metadata": {},
   "source": [
    "# Overall Statistics About The Dataset"
   ]
  },
  {
   "cell_type": "code",
   "execution_count": 94,
   "metadata": {},
   "outputs": [
    {
     "data": {
      "text/html": [
       "<div>\n",
       "<style scoped>\n",
       "    .dataframe tbody tr th:only-of-type {\n",
       "        vertical-align: middle;\n",
       "    }\n",
       "\n",
       "    .dataframe tbody tr th {\n",
       "        vertical-align: top;\n",
       "    }\n",
       "\n",
       "    .dataframe thead th {\n",
       "        text-align: right;\n",
       "    }\n",
       "</style>\n",
       "<table border=\"1\" class=\"dataframe\">\n",
       "  <thead>\n",
       "    <tr style=\"text-align: right;\">\n",
       "      <th></th>\n",
       "      <th>Pregnancies</th>\n",
       "      <th>Glucose</th>\n",
       "      <th>BloodPressure</th>\n",
       "      <th>SkinThickness</th>\n",
       "      <th>Insulin</th>\n",
       "      <th>BMI</th>\n",
       "      <th>DiabetesPedigreeFunction</th>\n",
       "      <th>Age</th>\n",
       "      <th>Outcome</th>\n",
       "    </tr>\n",
       "  </thead>\n",
       "  <tbody>\n",
       "    <tr>\n",
       "      <th>count</th>\n",
       "      <td>1536.000000</td>\n",
       "      <td>1536.000000</td>\n",
       "      <td>1536.000000</td>\n",
       "      <td>1536.000000</td>\n",
       "      <td>1536.000000</td>\n",
       "      <td>1536.000000</td>\n",
       "      <td>1536.000000</td>\n",
       "      <td>1536.000000</td>\n",
       "      <td>1536.000000</td>\n",
       "    </tr>\n",
       "    <tr>\n",
       "      <th>mean</th>\n",
       "      <td>3.845052</td>\n",
       "      <td>120.894531</td>\n",
       "      <td>69.105469</td>\n",
       "      <td>20.536458</td>\n",
       "      <td>79.799479</td>\n",
       "      <td>31.992578</td>\n",
       "      <td>0.471876</td>\n",
       "      <td>33.240885</td>\n",
       "      <td>0.348958</td>\n",
       "    </tr>\n",
       "    <tr>\n",
       "      <th>std</th>\n",
       "      <td>3.368480</td>\n",
       "      <td>31.962202</td>\n",
       "      <td>19.349501</td>\n",
       "      <td>15.947021</td>\n",
       "      <td>115.206457</td>\n",
       "      <td>7.881592</td>\n",
       "      <td>0.331221</td>\n",
       "      <td>11.756400</td>\n",
       "      <td>0.476796</td>\n",
       "    </tr>\n",
       "    <tr>\n",
       "      <th>min</th>\n",
       "      <td>0.000000</td>\n",
       "      <td>0.000000</td>\n",
       "      <td>0.000000</td>\n",
       "      <td>0.000000</td>\n",
       "      <td>0.000000</td>\n",
       "      <td>0.000000</td>\n",
       "      <td>0.078000</td>\n",
       "      <td>21.000000</td>\n",
       "      <td>0.000000</td>\n",
       "    </tr>\n",
       "    <tr>\n",
       "      <th>25%</th>\n",
       "      <td>1.000000</td>\n",
       "      <td>99.000000</td>\n",
       "      <td>62.000000</td>\n",
       "      <td>0.000000</td>\n",
       "      <td>0.000000</td>\n",
       "      <td>27.300000</td>\n",
       "      <td>0.243750</td>\n",
       "      <td>24.000000</td>\n",
       "      <td>0.000000</td>\n",
       "    </tr>\n",
       "    <tr>\n",
       "      <th>50%</th>\n",
       "      <td>3.000000</td>\n",
       "      <td>117.000000</td>\n",
       "      <td>72.000000</td>\n",
       "      <td>23.000000</td>\n",
       "      <td>30.500000</td>\n",
       "      <td>32.000000</td>\n",
       "      <td>0.372500</td>\n",
       "      <td>29.000000</td>\n",
       "      <td>0.000000</td>\n",
       "    </tr>\n",
       "    <tr>\n",
       "      <th>75%</th>\n",
       "      <td>6.000000</td>\n",
       "      <td>140.250000</td>\n",
       "      <td>80.000000</td>\n",
       "      <td>32.000000</td>\n",
       "      <td>127.250000</td>\n",
       "      <td>36.600000</td>\n",
       "      <td>0.626250</td>\n",
       "      <td>41.000000</td>\n",
       "      <td>1.000000</td>\n",
       "    </tr>\n",
       "    <tr>\n",
       "      <th>max</th>\n",
       "      <td>17.000000</td>\n",
       "      <td>199.000000</td>\n",
       "      <td>122.000000</td>\n",
       "      <td>99.000000</td>\n",
       "      <td>846.000000</td>\n",
       "      <td>67.100000</td>\n",
       "      <td>2.420000</td>\n",
       "      <td>81.000000</td>\n",
       "      <td>1.000000</td>\n",
       "    </tr>\n",
       "  </tbody>\n",
       "</table>\n",
       "</div>"
      ],
      "text/plain": [
       "       Pregnancies      Glucose  BloodPressure  SkinThickness      Insulin  \\\n",
       "count  1536.000000  1536.000000    1536.000000    1536.000000  1536.000000   \n",
       "mean      3.845052   120.894531      69.105469      20.536458    79.799479   \n",
       "std       3.368480    31.962202      19.349501      15.947021   115.206457   \n",
       "min       0.000000     0.000000       0.000000       0.000000     0.000000   \n",
       "25%       1.000000    99.000000      62.000000       0.000000     0.000000   \n",
       "50%       3.000000   117.000000      72.000000      23.000000    30.500000   \n",
       "75%       6.000000   140.250000      80.000000      32.000000   127.250000   \n",
       "max      17.000000   199.000000     122.000000      99.000000   846.000000   \n",
       "\n",
       "               BMI  DiabetesPedigreeFunction          Age      Outcome  \n",
       "count  1536.000000               1536.000000  1536.000000  1536.000000  \n",
       "mean     31.992578                  0.471876    33.240885     0.348958  \n",
       "std       7.881592                  0.331221    11.756400     0.476796  \n",
       "min       0.000000                  0.078000    21.000000     0.000000  \n",
       "25%      27.300000                  0.243750    24.000000     0.000000  \n",
       "50%      32.000000                  0.372500    29.000000     0.000000  \n",
       "75%      36.600000                  0.626250    41.000000     1.000000  \n",
       "max      67.100000                  2.420000    81.000000     1.000000  "
      ]
     },
     "execution_count": 94,
     "metadata": {},
     "output_type": "execute_result"
    }
   ],
   "source": [
    "df.describe()"
   ]
  },
  {
   "cell_type": "markdown",
   "metadata": {},
   "source": [
    "# Dealing With Data With Zero Values Data"
   ]
  },
  {
   "cell_type": "code",
   "execution_count": 95,
   "metadata": {},
   "outputs": [],
   "source": [
    "data_copy = data.copy(deep=True)"
   ]
  },
  {
   "cell_type": "code",
   "execution_count": 96,
   "metadata": {},
   "outputs": [
    {
     "data": {
      "text/plain": [
       "Pregnancies                   0\n",
       "Glucose                      10\n",
       "BloodPressure                70\n",
       "SkinThickness               454\n",
       "Insulin                     748\n",
       "BMI                          22\n",
       "DiabetesPedigreeFunction      0\n",
       "Age                           0\n",
       "Outcome                       0\n",
       "dtype: int64"
      ]
     },
     "execution_count": 96,
     "metadata": {},
     "output_type": "execute_result"
    }
   ],
   "source": [
    "data_copy[['Glucose', 'BloodPressure', 'SkinThickness', 'Insulin',\n",
    "       'BMI']] = data_copy[['Glucose', 'BloodPressure', 'SkinThickness', 'Insulin',\n",
    "       'BMI']].replace(0,np.nan)\n",
    "data_copy.isnull().sum()"
   ]
  },
  {
   "cell_type": "code",
   "execution_count": 97,
   "metadata": {},
   "outputs": [
    {
     "data": {
      "text/plain": [
       "Pregnancies                 0\n",
       "Glucose                     0\n",
       "BloodPressure               0\n",
       "SkinThickness               0\n",
       "Insulin                     0\n",
       "BMI                         0\n",
       "DiabetesPedigreeFunction    0\n",
       "Age                         0\n",
       "Outcome                     0\n",
       "dtype: int64"
      ]
     },
     "execution_count": 97,
     "metadata": {},
     "output_type": "execute_result"
    }
   ],
   "source": [
    "data['Glucose'] = data['Glucose'].replace(0,data['Glucose'].mean())\n",
    "data['BloodPressure'] = data['BloodPressure'].replace(0,data['BloodPressure'].mean())\n",
    "data['SkinThickness'] = data['SkinThickness'].replace(0,data['SkinThickness'].mean())\n",
    "data['Insulin'] = data['Insulin'].replace(0,data['Insulin'].mean())\n",
    "data['BMI'] = data['BMI'].replace(0,data['BMI'].mean())\n",
    "data.isna().sum()"
   ]
  },
  {
   "cell_type": "markdown",
   "metadata": {},
   "source": [
    "# Standarisasi"
   ]
  },
  {
   "cell_type": "code",
   "execution_count": 98,
   "metadata": {},
   "outputs": [
    {
     "name": "stdout",
     "output_type": "stream",
     "text": [
      "    Pregnancies   Glucose  BloodPressure  SkinThickness   Insulin       BMI  \\\n",
      "0      0.639947  0.865276      -0.021044       0.872057 -0.417768  0.167255   \n",
      "1     -0.844885 -1.205989      -0.516583       0.248678 -0.417768 -0.851535   \n",
      "2      1.233880  2.015979      -0.681762      -0.630654 -0.417768 -1.331821   \n",
      "3     -0.844885 -1.074480      -0.516583      -0.374700 -0.265107 -0.633222   \n",
      "4     -1.141852  0.503626      -2.663916       0.872057  0.530423  1.549899   \n",
      "5      0.342981 -0.186795       0.144135      -0.630654 -0.417768 -0.997076   \n",
      "6     -0.250952 -1.436130      -1.838019       0.560368 -0.329609 -0.211152   \n",
      "7      1.827813 -0.219673      -0.260103      -0.630654 -0.417768  0.414676   \n",
      "8     -0.547919  2.476260      -0.186224       1.911021  4.561826 -0.283923   \n",
      "9      1.233880  0.109100       1.961109      -0.630654 -0.417768 -0.066691   \n",
      "10     0.046014 -0.384059       1.630750      -0.630654 -0.417768  0.749421   \n",
      "11     1.827813  1.522820       0.144135      -0.630654 -0.417768  0.807638   \n",
      "12     1.827813  0.569381       0.639674      -0.630654 -0.417768 -0.778764   \n",
      "13    -0.844885  2.213242      -1.012121      -0.374700  7.819199 -0.342140   \n",
      "14     0.342981  1.457066      -0.021044      -0.790286  0.605676 -0.967968   \n",
      "15     0.936914 -0.712831      -0.260103      -0.630654 -0.417768 -0.356694   \n",
      "16    -1.141852 -0.121041       0.970033       2.118814  1.196949  1.942861   \n",
      "17     0.936914 -0.482690       0.144135      -0.630654 -0.417768 -0.414910   \n",
      "18    -0.844885 -0.614199      -3.489814       1.183746 -0.383361  1.579007   \n",
      "19    -0.844885 -0.219673      -0.186224       0.352575 -0.243606  0.312797   \n",
      "\n",
      "    DiabetesPedigreeFunction       Age  \n",
      "0                   0.468492  1.425995  \n",
      "1                  -0.365061 -0.190672  \n",
      "2                   0.604397 -0.105584  \n",
      "3                  -0.920763 -1.041549  \n",
      "4                   5.484909 -0.020496  \n",
      "5                  -0.818079 -0.275760  \n",
      "6                  -0.676133 -0.616111  \n",
      "7                  -1.020427 -0.360847  \n",
      "8                  -0.947944  1.681259  \n",
      "9                  -0.724455  1.766346  \n",
      "10                 -0.848280 -0.275760  \n",
      "11                  0.196681  0.064591  \n",
      "12                  2.926869  2.021610  \n",
      "13                 -0.223115  2.191785  \n",
      "14                  0.347687  1.511083  \n",
      "15                  0.036615 -0.105584  \n",
      "16                  0.238963 -0.190672  \n",
      "17                 -0.658012 -0.190672  \n",
      "18                 -0.872441 -0.020496  \n",
      "19                  0.172520 -0.105584  \n"
     ]
    }
   ],
   "source": [
    "X = data.drop('Outcome', axis=1)\n",
    "y = data['Outcome']\n",
    "column_names = X.columns.tolist()\n",
    "index_values = X.index.tolist()\n",
    "\n",
    "scaler = StandardScaler()\n",
    "X_scaled = scaler.fit_transform(X)\n",
    "\n",
    "X_scaled_df = pd.DataFrame(X_scaled, columns=column_names, index=index_values)\n",
    "print(X_scaled_df.head(20))\n"
   ]
  },
  {
   "cell_type": "markdown",
   "metadata": {},
   "source": [
    "# Data Splitting"
   ]
  },
  {
   "cell_type": "code",
   "execution_count": 99,
   "metadata": {},
   "outputs": [],
   "source": [
    "X_train,X_test,y_train,y_test=train_test_split(X,y,test_size=0.2,random_state=42)"
   ]
  },
  {
   "cell_type": "markdown",
   "metadata": {},
   "source": [
    "# Model Training & Evaluation Model (Clasification)\n",
    "The Model That We Use : \n",
    "1. Logistic Regression\n",
    "2. KNN\n",
    "3. SVC\n",
    "4. Desicion Tree\n",
    "5. Random Forest\n",
    "6. Gradient Boosting \n",
    "7. Naive Bayes\n",
    "\n"
   ]
  },
  {
   "cell_type": "code",
   "execution_count": 100,
   "metadata": {},
   "outputs": [
    {
     "name": "stdout",
     "output_type": "stream",
     "text": [
      "LR Test Accuracy: 76.30 %\n",
      "KNN Test Accuracy: 80.52 %\n",
      "SVC Test Accuracy: 78.25 %\n",
      "DT Test Accuracy: 92.21 %\n",
      "RF Test Accuracy: 76.30 %\n",
      "GBC Test Accuracy: 83.77 %\n",
      "NB Test Accuracy: 73.05 %\n"
     ]
    }
   ],
   "source": [
    "pipeline_lr  = Pipeline([('scalar1',StandardScaler()),('lr_classifier',LogisticRegression())])\n",
    "pipeline_knn = Pipeline([('scalar2',StandardScaler()),('knn_classifier',KNeighborsClassifier())])\n",
    "pipeline_svc = Pipeline([('scalar3',StandardScaler()),('svc_classifier',SVC())])\n",
    "pipeline_dt = Pipeline([('dt_classifier',DecisionTreeClassifier())])\n",
    "pipeline_rf = Pipeline([('rf_classifier',RandomForestClassifier(max_depth=3))])\n",
    "pipeline_gbc = Pipeline([('gbc_classifier',GradientBoostingClassifier())])\n",
    "pipeline_nb = Pipeline([('nb_classifier',GaussianNB())])\n",
    "pipelines = [pipeline_lr,\n",
    "            pipeline_knn,\n",
    "            pipeline_svc,\n",
    "            pipeline_dt,\n",
    "            pipeline_rf,\n",
    "            pipeline_gbc,\n",
    "            pipeline_nb]\n",
    "\n",
    "for pipe in pipelines:\n",
    "    pipe.fit(X_train,y_train)\n",
    "\n",
    "pipe_dict = {0:'LR', 1:'KNN', 2:'SVC', 3:'DT', 4: 'RF', 5: 'GBC', 6: 'NB'}\n",
    "\n",
    "test_accuracies = []\n",
    "for i, model in enumerate(pipelines):\n",
    "    accuracy = model.score(X_test, y_test) * 100\n",
    "    test_accuracies.append(accuracy)\n",
    "    print(\"{} Test Accuracy: {:.2f}\".format(pipe_dict[i], accuracy), '%')"
   ]
  },
  {
   "cell_type": "code",
   "execution_count": 101,
   "metadata": {},
   "outputs": [
    {
     "data": {
      "image/png": "[encoded data removed]",
      "text/plain": [
       "<Figure size 1000x600 with 1 Axes>"
      ]
     },
     "metadata": {},
     "output_type": "display_data"
    }
   ],
   "source": [
    "colors = Set2.colors\n",
    "\n",
    "plt.figure(figsize=(10, 6))\n",
    "plt.bar(pipe_dict.values(), test_accuracies, color=colors)\n",
    "plt.xlabel('Classifier')\n",
    "plt.ylabel('Test Accuracy (%)')\n",
    "plt.title('Test Accuracies of Different Classifiers')\n",
    "plt.ylim(0, 100)  \n",
    "plt.show()"
   ]
  },
  {
   "cell_type": "markdown",
   "metadata": {},
   "source": [
    "We Can See That Decision Tree (DT) is Best Model That We Can Use For This Case"
   ]
  },
  {
   "cell_type": "markdown",
   "metadata": {},
   "source": [
    "# Try The Model To Test The Data"
   ]
  },
  {
   "cell_type": "code",
   "execution_count": 102,
   "metadata": {},
   "outputs": [
    {
     "name": "stdout",
     "output_type": "stream",
     "text": [
      "diabetic\n"
     ]
    }
   ],
   "source": [
    "dt = DecisionTreeClassifier()\n",
    "dt.fit(X_train,y_train)\n",
    "\n",
    "new_data = pd.DataFrame({\n",
    "    'Pregnancies':6,\n",
    "    'Glucose':148.0,\n",
    "    'BloodPressure':72.0,\n",
    "    'SkinThickness':35.0,\n",
    "    'Insulin':79.799479,\n",
    "    'BMI':33.6,\n",
    "    'DiabetesPedigreeFunction':0.627,\n",
    "    'Age':50,    \n",
    "},index=[0])\n",
    "\n",
    "p = dt.predict(new_data)\n",
    "\n",
    "if p[0] == 0:\n",
    "    print('non-diabetic')\n",
    "else:\n",
    "    print('diabetic')"
   ]
  },
  {
   "cell_type": "markdown",
   "metadata": {},
   "source": [
    "# Saving The Model "
   ]
  },
  {
   "cell_type": "code",
   "execution_count": 103,
   "metadata": {},
   "outputs": [
    {
     "data": {
      "text/plain": [
       "array([1], dtype=int64)"
      ]
     },
     "execution_count": 103,
     "metadata": {},
     "output_type": "execute_result"
    }
   ],
   "source": [
    "joblib.dump(dt,'Diabetes_model')\n",
    "model = joblib.load('Diabetes_model')\n",
    "model.predict(new_data)"
   ]
  },
  {
   "cell_type": "markdown",
   "metadata": {},
   "source": [
    "# GUI"
   ]
  },
  {
   "cell_type": "code",
   "execution_count": 104,
   "metadata": {},
   "outputs": [],
   "source": [
    "def show_entry():\n",
    "    try:\n",
    "        p1 = float(e1.get())\n",
    "        p2 = float(e2.get())\n",
    "        p3 = float(e3.get())\n",
    "        p4 = float(e4.get())\n",
    "        p5 = float(e5.get())\n",
    "        p6 = float(e6.get())\n",
    "        p7 = float(e7.get())\n",
    "        p8 = float(e8.get())\n",
    "\n",
    "        print(\"Input Values:\")\n",
    "        print(\"Pregnancies:\", p1)\n",
    "        print(\"Glucose:\", p2)\n",
    "        print(\"Blood Pressure:\", p3)\n",
    "        print(\"Skin Thickness:\", p4)\n",
    "        print(\"Insulin:\", p5)\n",
    "        print(\"BMI:\", p6)\n",
    "        print(\"Diabetes Pedigree Function:\", p7)\n",
    "        print(\"Age:\", p8)\n",
    "\n",
    "\n",
    "        model = joblib.load('Diabetes_model') \n",
    "        print(\"Model Loaded Successfully\")\n",
    "        result = model.predict([[p1, p2, p3, p4, p5, p6, p7, p8]])\n",
    "\n",
    "        if result == 1:\n",
    "            result_label.config(text=\"You Most Likely Have Diabetes !!\", fg=\"Red\", anchor=\"e\")\n",
    "        else:\n",
    "            result_label.config(text=\"You Are Free From Diabetes !!\", fg=\"green\", anchor=\"e\")\n",
    "    except ValueError as e:\n",
    "        print(\"ValueError:\", e)\n",
    "        messagebox.showerror(\"Error\", \"Please enter valid numeric values.\")\n",
    "    except Exception as ex:\n",
    "        print(\"Error:\", ex)\n",
    "        messagebox.showerror(\"Error\", \"An error occurred while predicting. Please try again.\")\n",
    "\n",
    "master = Tk()\n",
    "master.title(\"Diabetes Prediction System\")\n",
    "\n",
    "master.configure(bg=\"#fdf5e6\")\n",
    "master.geometry(\"400x300\")\n",
    "\n",
    "header_label = Label(master, text=\"Diabetes Prediction\", font=(\"Arial\", 16), bg=\"#fdf5e6\", fg=\"#333\", anchor=\"e\")\n",
    "header_label.grid(row=0, columnspan=2, pady=10, sticky=\"e\")\n",
    "\n",
    "input_frame = Frame(master, bg=\"#fdf5e6\")\n",
    "input_frame.grid(row=1, columnspan=2, pady=10, sticky=\"e\")\n",
    "\n",
    "Label(input_frame, text=\"Pregnancies:\", bg=\"#fdf5e6\", anchor=\"e\").grid(row=0, column=0, padx=5, sticky=\"e\")\n",
    "Label(input_frame, text=\"Glucose:\", bg=\"#fdf5e6\", anchor=\"e\").grid(row=1, column=0, padx=5, sticky=\"e\")\n",
    "Label(input_frame, text=\"Blood Pressure:\", bg=\"#fdf5e6\", anchor=\"e\").grid(row=2, column=0, padx=5, sticky=\"e\")\n",
    "Label(input_frame, text=\"Skin Thickness:\", bg=\"#fdf5e6\", anchor=\"e\").grid(row=3, column=0, padx=5, sticky=\"e\")\n",
    "Label(input_frame, text=\"Insulin:\", bg=\"#fdf5e6\", anchor=\"e\").grid(row=4, column=0, padx=5, sticky=\"e\")\n",
    "Label(input_frame, text=\"BMI:\", bg=\"#fdf5e6\", anchor=\"e\").grid(row=5, column=0, padx=5, sticky=\"e\")\n",
    "Label(input_frame, text=\"Diabetes Pedigree Function:\", bg=\"#fdf5e6\", anchor=\"e\").grid(row=6, column=0, padx=5, sticky=\"e\")\n",
    "Label(input_frame, text=\"Age:\", bg=\"#fdf5e6\", anchor=\"e\").grid(row=7, column=0, padx=5, sticky=\"e\")\n",
    "\n",
    "e1 = Entry(input_frame)\n",
    "e2 = Entry(input_frame)\n",
    "e3 = Entry(input_frame)\n",
    "e4 = Entry(input_frame)\n",
    "e5 = Entry(input_frame)\n",
    "e6 = Entry(input_frame)\n",
    "e7 = Entry(input_frame)\n",
    "e8 = Entry(input_frame)\n",
    "\n",
    "e1.grid(row=0, column=1, padx=5, sticky=\"e\")\n",
    "e2.grid(row=1, column=1, padx=5, sticky=\"e\")\n",
    "e3.grid(row=2, column=1, padx=5, sticky=\"e\")\n",
    "e4.grid(row=3, column=1, padx=5, sticky=\"e\")\n",
    "e5.grid(row=4, column=1, padx=5, sticky=\"e\")\n",
    "e6.grid(row=5, column=1, padx=5, sticky=\"e\")\n",
    "e7.grid(row=6, column=1, padx=5, sticky=\"e\")\n",
    "e8.grid(row=7, column=1, padx=5, sticky=\"e\")\n",
    "\n",
    "predict_button = Button(master, text=\"Predict\", command=show_entry, bg=\"#4CAF50\", fg=\"white\", font=(\"Arial\", 12))\n",
    "predict_button.grid(row=2, column=0, columnspan=2, pady=10, sticky=\"n\")\n",
    "\n",
    "result_label = Label(master, text=\"\", font=(\"Arial\", 14), bg=\"#fdf5e6\", anchor=\"e\")\n",
    "result_label.grid(row=3, columnspan=2, sticky=\"e\")\n",
    "\n",
    "master.mainloop()\n"
   ]
  }
 ],
 "metadata": {
  "kernelspec": {
   "display_name": "Python 3",
   "language": "python",
   "name": "python3"
  },
  "language_info": {
   "codemirror_mode": {
    "name": "ipython",
    "version": 3
   },
   "file_extension": ".py",
   "mimetype": "text/x-python",
   "name": "python",
   "nbconvert_exporter": "python",
   "pygments_lexer": "ipython3",
   "version": "3.12.2"
  }
 },
 "nbformat": 4,
 "nbformat_minor": 2
}
